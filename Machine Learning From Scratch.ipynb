{
 "cells": [
  {
   "cell_type": "markdown",
   "metadata": {},
   "source": [
    "# Coursework 1"
   ]
  },
  {
   "cell_type": "markdown",
   "metadata": {},
   "source": [
    "## Imports"
   ]
  },
  {
   "cell_type": "code",
   "execution_count": 1,
   "metadata": {},
   "outputs": [],
   "source": [
    "import os\n",
    "import numpy as np\n",
    "import matplotlib.pyplot as plt\n",
    "\n",
    "import warnings\n",
    "warnings.filterwarnings('ignore')\n",
    "\n",
    "from sklearn.metrics import confusion_matrix\n",
    "from scipy.optimize import minimize\n",
    "\n",
    "%matplotlib inline"
   ]
  },
  {
   "cell_type": "markdown",
   "metadata": {},
   "source": [
    "### Dataset Loading Functions"
   ]
  },
  {
   "cell_type": "code",
   "execution_count": 2,
   "metadata": {},
   "outputs": [],
   "source": [
    "def load_mnist_dataset():\n",
    "\n",
    "    X_train = np.load(\"Datasets/MNIST/mnist_train_samples.npy\")\n",
    "    \n",
    "    Y_train = np.load(\"Datasets/MNIST/mnist_train_labels.npy\")\n",
    "    \n",
    "    X_val = np.load(\"Datasets/MNIST/mnist_val_samples.npy\")\n",
    "    \n",
    "    Y_val = np.load(\"Datasets/MNIST/mnist_val_labels.npy\")\n",
    "    \n",
    "    return X_train, Y_train, X_val, Y_val\n",
    "\n",
    "def load_iris_dataset():\n",
    "    \n",
    "    X_train = np.load(\"Datasets/IRIS/iris_train_samples.npy\")\n",
    "    \n",
    "    Y_train = np.load(\"Datasets/IRIS/iris_train_labels.npy\")\n",
    "\n",
    "    X_val = np.load(\"Datasets/IRIS/iris_val_samples.npy\")\n",
    "    \n",
    "    Y_val = np.load(\"Datasets/IRIS/iris_val_labels.npy\")\n",
    "    \n",
    "    return X_train, Y_train, X_val, Y_val"
   ]
  },
  {
   "cell_type": "markdown",
   "metadata": {},
   "source": [
    "## Q1 Linear Fitting"
   ]
  },
  {
   "cell_type": "markdown",
   "metadata": {},
   "source": [
    "### 1.a) \n",
    "Implement the normal equation solver function nsolve, which takes as input the matrix X and the\n",
    "target vector y and returns the optimized weights w. (5 points)"
   ]
  },
  {
   "cell_type": "code",
   "execution_count": 3,
   "metadata": {},
   "outputs": [],
   "source": [
    "def nsolve(X, y):\n",
    "    \"\"\"\n",
    "    Solving for normal equation solution\n",
    "    \"\"\"\n",
    "    W_optimized = np.linalg.inv(X.T @ X) @ X.T @ y \n",
    "    return W_optimized"
   ]
  },
  {
   "cell_type": "code",
   "execution_count": 4,
   "metadata": {},
   "outputs": [
    {
     "name": "stdout",
     "output_type": "stream",
     "text": [
      "Optimized Weights =  [ 0.43185904 -0.16443234 -0.05574945  0.30241992  0.48782447]\n"
     ]
    }
   ],
   "source": [
    "# Loadding the MNIST dataset\n",
    "X_train, Y_train, X_val, Y_val = load_iris_dataset()\n",
    "\n",
    "# add bias 1 into the X matrix \n",
    "X = np.c_[np.ones((len(X_train), 1)), X_train]\n",
    "W = nsolve(X, Y_train)\n",
    "print(\"Optimized Weights = \", W)"
   ]
  },
  {
   "cell_type": "markdown",
   "metadata": {},
   "source": [
    "### 1.b) \n",
    "Implement **lineFit(X,y)** which should fit a linear function to the input data. Test your implementation\n",
    "on the following task: predict with linear fitting the petal length (cm) of the Iris dataset using the three\n",
    "remaining variables as inputs (sepal length (cm), sepal width (cm) and petal width (cm)). Report the\n",
    "L2 loss on the validation set and plot a graph showing the correlation between y and your prediction\n",
    "on the validation set. (2 points)"
   ]
  },
  {
   "cell_type": "code",
   "execution_count": 5,
   "metadata": {},
   "outputs": [],
   "source": [
    "def lineFit(X, y, Xtest):\n",
    "    \"\"\"\n",
    "    lineFit(X,y) which should fit a linear function to the input data. \n",
    "    \"\"\"\n",
    "    # find the best parameter\n",
    "    W = nsolve(X, y)\n",
    "\n",
    "    # estimation\n",
    "    y_estimated = Xtest @ W\n",
    "    \n",
    "    return y_estimated"
   ]
  },
  {
   "cell_type": "code",
   "execution_count": 6,
   "metadata": {},
   "outputs": [
    {
     "name": "stdout",
     "output_type": "stream",
     "text": [
      "Original - first 1 rows\n",
      "[6.  3.  4.8 1.8]\n",
      "Delete the petal length input - first 1 rows\n",
      "[6.  3.  1.8]\n",
      "Add bias 1 into X matrix\n",
      "[1.  6.  3.  1.8]\n",
      "Y matrix\n",
      "4.8\n"
     ]
    }
   ],
   "source": [
    "# Loadding the MNIST dataset\n",
    "X_train, Y_train, X_val, Y_val = load_iris_dataset()\n",
    "# remove the petal length (cm) = 3rd input\n",
    "X = X_train.copy()\n",
    "print(\"Original - first 1 rows\")\n",
    "print(X[0])\n",
    "print(\"Delete the petal length input - first 1 rows\")\n",
    "X = np.delete(X,2,1)\n",
    "print(X[0])\n",
    "\n",
    "# add bias 1 into the X matrix \n",
    "X = np.c_[np.ones(X.shape[0]), X]\n",
    "# petal length as y\n",
    "y = X_train[:,2]\n",
    "print(\"Add bias 1 into X matrix\")\n",
    "print(X[0])\n",
    "print(\"Y matrix\")\n",
    "print(y[0])"
   ]
  },
  {
   "cell_type": "code",
   "execution_count": 7,
   "metadata": {},
   "outputs": [
    {
     "name": "stdout",
     "output_type": "stream",
     "text": [
      "Original - first 1 rows\n",
      "[5.  3.4 1.6 0.4]\n",
      "Delete the petal length input\n",
      "[5.  3.4 0.4]\n",
      "Add bias 1 into X matrix\n",
      "[1.  5.  3.4 0.4]\n",
      "Y matrix\n",
      "1.6\n"
     ]
    }
   ],
   "source": [
    "# remove the petal length (cm) = 3rd input\n",
    "X_test = X_val.copy()\n",
    "print(\"Original - first 1 rows\")\n",
    "print(X_test[0])\n",
    "print(\"Delete the petal length input\")\n",
    "X_test = np.delete(X_val,2,1)\n",
    "print(X_test[0])\n",
    "\n",
    "\n",
    "# add bias 1 into the X matrix \n",
    "X_test = np.c_[np.ones(X_test.shape[0]), X_test]\n",
    "# petal length as y\n",
    "y_test = X_val[:,2]\n",
    "print(\"Add bias 1 into X matrix\")\n",
    "print(X_test[0])\n",
    "print(\"Y matrix\")\n",
    "print(y_test[0])"
   ]
  },
  {
   "cell_type": "code",
   "execution_count": 8,
   "metadata": {},
   "outputs": [
    {
     "name": "stdout",
     "output_type": "stream",
     "text": [
      "Optimized W = [-0.30195036  0.7925747  -0.72158044  1.37750519]\n"
     ]
    }
   ],
   "source": [
    "W_optimized = nsolve(X, y)\n",
    "print(\"Optimized W =\", W_optimized)"
   ]
  },
  {
   "cell_type": "code",
   "execution_count": 9,
   "metadata": {},
   "outputs": [
    {
     "name": "stdout",
     "output_type": "stream",
     "text": [
      "[1.75855173 1.88697133 7.09302762 6.01182075 4.42717236 4.84752334\n",
      " 5.68385838 3.98605695 1.54100989 1.38959437 6.09817765 5.29573817\n",
      " 1.41142651 5.78061391 3.83464144]\n"
     ]
    }
   ],
   "source": [
    "y_estimated = lineFit(X, y, X_test)\n",
    "print(y_estimated)"
   ]
  },
  {
   "cell_type": "code",
   "execution_count": 10,
   "metadata": {},
   "outputs": [
    {
     "name": "stdout",
     "output_type": "stream",
     "text": [
      "y=mx+b, m= 1.0548171244537528 , b= -0.0932659584063243\n"
     ]
    },
    {
     "data": {
      "image/png": "[encoded data removed]",
      "text/plain": [
       "<Figure size 432x288 with 1 Axes>"
      ]
     },
     "metadata": {
      "needs_background": "light"
     },
     "output_type": "display_data"
    }
   ],
   "source": [
    "# find the coefficient of line equation\n",
    "coef = np.polyfit(y_test,y_estimated,1)\n",
    "poly1d_fn = np.poly1d(coef) \n",
    "# poly1d_fn is now a function which takes in x and returns an estimate for y\n",
    "\n",
    "plt.title(\"Petal Length\")\n",
    "plt.plot(y_test,y_estimated, 'yo', y_test, poly1d_fn(y_test), '--k')\n",
    "plt.xlabel(\"Ground Truth\")\n",
    "plt.ylabel(\"Estimated\")\n",
    "\n",
    "print (\"y=mx+b,\", \"m=\", coef[0], \",\", \"b=\", coef[1])"
   ]
  },
  {
   "cell_type": "markdown",
   "metadata": {},
   "source": [
    "The graph showing that the validation data prediction and ground truth correlates very well. The linear line is show to be y=mx+b, m= 1.0548171244537528 , b= -0.0932659584063243."
   ]
  },
  {
   "cell_type": "code",
   "execution_count": 11,
   "metadata": {},
   "outputs": [
    {
     "name": "stdout",
     "output_type": "stream",
     "text": [
      "0.1480026123203036\n"
     ]
    }
   ],
   "source": [
    "MSE = np.mean((y_test-y_estimated) ** 2)\n",
    "print(MSE)"
   ]
  },
  {
   "cell_type": "markdown",
   "metadata": {},
   "source": [
    "The L2 loss is the mean square error (MSE) between the validation test data prediction and ground truth. The validation data predictions are very well estimation to the ground truth. The MSE is relatively at 0.1480026123203036."
   ]
  },
  {
   "cell_type": "markdown",
   "metadata": {},
   "source": [
    "### 1.c)\n",
    "Implement **polyFit(X,y)** which should fit a 2nd degree polynomial to the input data. Test your\n",
    "implementation on the following task: predict with the polynomial the petal width (cm) of the Iris\n",
    "dataset using the three remaining variables as inputs (sepal length (cm), sepal width (cm), petal length\n",
    "(cm), petal width (cm)). The 2nd degree polynomial should consider all possible pairwise terms, i.e.\n",
    "w1x\n",
    "2 + w2xy + w3y\n",
    "2 + w4x + w5y + w6 in the case of two input variables x and y. Report the L2 loss\n",
    "on the validation set and plot a graph showing the correlation between y and your prediction on the\n",
    "validation set. (3 points)"
   ]
  },
  {
   "cell_type": "code",
   "execution_count": 12,
   "metadata": {},
   "outputs": [],
   "source": [
    "def polyFit(X, y, Xtest):\n",
    "    \"\"\"\n",
    "    Fit a 2nd degree polynomial to the input data.\n",
    "    \"\"\"\n",
    "    # create the dataset for polynomial features\n",
    "    temp_X = []\n",
    "    for row in range(X_train.shape[0]):\n",
    "        first = X[row][0]\n",
    "        second = X[row][1]\n",
    "        third = X[row][2]\n",
    "        fourth = X[row][3]\n",
    "        # pairwise 2nd degree polynomial\n",
    "        poly = [first, first ** 2, first * second, first * fourth, \n",
    "                second, second ** 2, second * fourth, \n",
    "                fourth, fourth ** 2]\n",
    "        temp_X.append(poly)\n",
    "    # convert to numpy array\n",
    "    temp_X = np.array(temp_X)\n",
    "    \n",
    "    # find the best parameter\n",
    "    W = nsolve(temp_X, y)\n",
    "    \n",
    "    # create the testing dataset for polynomial features\n",
    "    temp_Xtest = []\n",
    "    for row in range(X_val.shape[0]):\n",
    "        first = Xtest[row][0]\n",
    "        second = Xtest[row][1]\n",
    "        third = Xtest[row][2]\n",
    "        fourth = Xtest[row][3]\n",
    "        \n",
    "        # pairwise 2nd degree polynomial\n",
    "        poly = [first, first ** 2, first * second, first * fourth, \n",
    "                second, second ** 2, second * fourth, \n",
    "                fourth, fourth ** 2]\n",
    "        temp_Xtest.append(poly)\n",
    "        \n",
    "    # convert to numpy array    \n",
    "    temp_Xtest = np.array(temp_Xtest)\n",
    "    \n",
    "    # find the estimation\n",
    "    y_estimated = temp_Xtest @ W\n",
    "    \n",
    "    return y_estimated"
   ]
  },
  {
   "cell_type": "code",
   "execution_count": 13,
   "metadata": {},
   "outputs": [],
   "source": [
    "# Loadding the IRIS dataset\n",
    "X_train, Y_train, X_val, Y_val = load_iris_dataset()\n",
    "\n",
    "# prepare the dataset \n",
    "# petal length = 3rd input \n",
    "y = []\n",
    "for row in range(X_train.shape[0]):\n",
    "    third = X_train[row][2]\n",
    "    y.append(third)\n",
    "y = np.array(y)"
   ]
  },
  {
   "cell_type": "code",
   "execution_count": 14,
   "metadata": {},
   "outputs": [
    {
     "name": "stdout",
     "output_type": "stream",
     "text": [
      "[1.85123303 1.72940506 6.98140602 5.80340571 4.49072067 4.89216028\n",
      " 5.602118   4.05840432 1.44204758 1.36458999 5.92334881 5.31548255\n",
      " 1.51604796 5.55807041 3.96086834]\n"
     ]
    }
   ],
   "source": [
    "y_estimated = polyFit(X_train, y, X_val)\n",
    "print(y_estimated)"
   ]
  },
  {
   "cell_type": "code",
   "execution_count": 15,
   "metadata": {},
   "outputs": [
    {
     "name": "stdout",
     "output_type": "stream",
     "text": [
      "y=mx+b, m= 1.0332155215326022 , b= -0.045136676965677844\n"
     ]
    },
    {
     "data": {
      "image/png": "[encoded data removed]",
      "text/plain": [
       "<Figure size 432x288 with 1 Axes>"
      ]
     },
     "metadata": {
      "needs_background": "light"
     },
     "output_type": "display_data"
    }
   ],
   "source": [
    "# find the coefficient of line equation\n",
    "coef = np.polyfit(y_test,y_estimated,1)\n",
    "poly1d_fn = np.poly1d(coef) \n",
    "# poly1d_fn is now a function which takes in x and returns an estimate for y\n",
    "\n",
    "plt.title(\"Petal Length\")\n",
    "plt.plot(y_test,y_estimated, 'yo', y_test, poly1d_fn(y_test), '--k')\n",
    "plt.xlabel(\"Ground Truth\")\n",
    "plt.ylabel(\"Estimated\")\n",
    "\n",
    "print (\"y=mx+b,\", \"m=\", coef[0], \",\", \"b=\", coef[1])"
   ]
  },
  {
   "cell_type": "markdown",
   "metadata": {},
   "source": [
    "The graph showing that the validation data prediction and ground truth correlates very well and almost perfectly matched the gradient at 1. The linear line is show to be y=mx+b, m= 1.0332155215326022 , b= -0.045136676965677844."
   ]
  },
  {
   "cell_type": "code",
   "execution_count": 16,
   "metadata": {},
   "outputs": [
    {
     "name": "stdout",
     "output_type": "stream",
     "text": [
      "0.10706427357791252\n"
     ]
    }
   ],
   "source": [
    "MSE = np.mean((y_test-y_estimated) ** 2)\n",
    "print(MSE)"
   ]
  },
  {
   "cell_type": "markdown",
   "metadata": {},
   "source": [
    "It is expected that the 2nd degree pairwise polynomial expect to show a perfect prediction compare to the linear fit.  The MSE is much lower than the linear fit at 0.10706427357791252."
   ]
  },
  {
   "cell_type": "markdown",
   "metadata": {},
   "source": [
    "## Q2"
   ]
  },
  {
   "cell_type": "markdown",
   "metadata": {},
   "source": [
    "### 2.a)\n",
    "Implement a function **pca(X, ndims)** that performs PCA over the input data X and returns both the\n",
    " ̄\n",
    "mean vector X and the ndims top components. The top components are the eigen vectors linked to\n",
    "the top eigen values computed from the covariance matrix. Try your function on the MNIST dataset, which is composed of 10 digit classes. Display the top 10 components fitted on the train dataset as images and check that you can reconstruct perfectly an input digit from the validation set using all components. (7 points)"
   ]
  },
  {
   "cell_type": "code",
   "execution_count": 17,
   "metadata": {},
   "outputs": [],
   "source": [
    "def pca(X, ndims = 10):\n",
    "    \"\"\"\n",
    "    performs PCA over the input data X and returns both the mean vector ¯X and the ndims top components.\n",
    "    The top components are the eigen vectors linked to the top eigen values computed from the covariance matrix\n",
    "    \"\"\"\n",
    "    \n",
    "    # find the mean \n",
    "    mean = np.mean(X.T, axis = 1)\n",
    "    \n",
    "    # subtract the mean to the X \n",
    "    X_subtract_mean = X - mean\n",
    "    \n",
    "    # find the covariance \n",
    "    covariance = np.cov((X_subtract_mean.T))\n",
    "        \n",
    "    # find the Eigen vector and Eigen value\n",
    "    eig_value, eig_vector = np.linalg.eigh(covariance)\n",
    "\n",
    "    # sort the most important to least important Eigen vectors according to the Eigen values\n",
    "    indice = eig_value.argsort()[::-1][0:ndims]\n",
    "    \n",
    "    # Eigen vectors \n",
    "    eig_vector = eig_vector[:, indice]\n",
    "            \n",
    "    return eig_vector, mean,\n"
   ]
  },
  {
   "cell_type": "code",
   "execution_count": 18,
   "metadata": {},
   "outputs": [
    {
     "name": "stdout",
     "output_type": "stream",
     "text": [
      "Display the top 10 Eigen Vector\n"
     ]
    },
    {
     "data": {
      "image/png": "[encoded data removed]",
      "text/plain": [
       "<Figure size 1800x720 with 10 Axes>"
      ]
     },
     "metadata": {
      "needs_background": "light"
     },
     "output_type": "display_data"
    }
   ],
   "source": [
    "# Loadding the MNIST dataset\n",
    "X_train, Y_train, X_val, Y_val = load_mnist_dataset()\n",
    "\n",
    "# result \n",
    "eig_vector, mean = pca(X_train, 10)\n",
    "\n",
    "\n",
    "width = 5\n",
    "height = 5\n",
    "rows = 2\n",
    "cols = 5\n",
    "axes = []\n",
    "\n",
    "\n",
    "# display the result\n",
    "print(\"Display the top 10 Eigen Vector\")\n",
    "\n",
    "fig=plt.figure(figsize=(25,10))\n",
    "for a in range(rows*cols):\n",
    "    axes.append( fig.add_subplot(rows, cols, a+1) )\n",
    "    subplot_title=(\"Principal Component\"+str(a+1))\n",
    "    axes[-1].set_title(subplot_title)  \n",
    "    plt.imshow(eig_vector[:,a].reshape(28,28))\n",
    "fig.tight_layout()    \n",
    "plt.show()"
   ]
  },
  {
   "cell_type": "code",
   "execution_count": 19,
   "metadata": {},
   "outputs": [
    {
     "name": "stdout",
     "output_type": "stream",
     "text": [
      "Reconstruction using the top 10 Eigen Vectors\n"
     ]
    },
    {
     "data": {
      "image/png": "[encoded data removed]",
      "text/plain": [
       "<Figure size 432x288 with 2 Axes>"
      ]
     },
     "metadata": {
      "needs_background": "light"
     },
     "output_type": "display_data"
    },
    {
     "data": {
      "image/png": "[encoded data removed]",
      "text/plain": [
       "<Figure size 432x288 with 2 Axes>"
      ]
     },
     "metadata": {
      "needs_background": "light"
     },
     "output_type": "display_data"
    },
    {
     "data": {
      "image/png": "[encoded data removed]",
      "text/plain": [
       "<Figure size 432x288 with 2 Axes>"
      ]
     },
     "metadata": {
      "needs_background": "light"
     },
     "output_type": "display_data"
    },
    {
     "data": {
      "image/png": "[encoded data removed]",
      "text/plain": [
       "<Figure size 432x288 with 2 Axes>"
      ]
     },
     "metadata": {
      "needs_background": "light"
     },
     "output_type": "display_data"
    },
    {
     "data": {
      "image/png": "[encoded data removed]",
      "text/plain": [
       "<Figure size 432x288 with 2 Axes>"
      ]
     },
     "metadata": {
      "needs_background": "light"
     },
     "output_type": "display_data"
    }
   ],
   "source": [
    "# result \n",
    "eig_vector, mean = pca(X_train, 10)\n",
    "\n",
    "# Reconstruction using top 10 eigen vectors\n",
    "score = np.matmul(X_train - mean, eig_vector)\n",
    "X_reconstructed = np.matmul(score, eig_vector.T) + mean\n",
    "\n",
    "# display the result\n",
    "print(\"Reconstruction using the top 10 Eigen Vectors\")\n",
    "for i in range(0,5,):   \n",
    "    fig, (ax1, ax2) = plt.subplots(1, 2) \n",
    "    ax1.set_title(\"Label \" + str(Y_train[i]) + \" \" + \"reconstructed\")\n",
    "    ax1.imshow(X_reconstructed[i].reshape(28,28))\n",
    "    ax2.set_title(\"Label \" + str(Y_train[i]) + \" \" + \"original\")\n",
    "    ax2.imshow(X_train[i].reshape(28,28))\n",
    "plt.show()"
   ]
  },
  {
   "cell_type": "code",
   "execution_count": 20,
   "metadata": {
    "scrolled": false
   },
   "outputs": [
    {
     "name": "stdout",
     "output_type": "stream",
     "text": [
      "Reconstruction using all Eigen Vectors\n"
     ]
    },
    {
     "data": {
      "image/png": "[encoded data removed]",
      "text/plain": [
       "<Figure size 432x288 with 2 Axes>"
      ]
     },
     "metadata": {
      "needs_background": "light"
     },
     "output_type": "display_data"
    },
    {
     "data": {
      "image/png": "[encoded data removed]",
      "text/plain": [
       "<Figure size 432x288 with 2 Axes>"
      ]
     },
     "metadata": {
      "needs_background": "light"
     },
     "output_type": "display_data"
    },
    {
     "data": {
      "image/png": "[encoded data removed]",
      "text/plain": [
       "<Figure size 432x288 with 2 Axes>"
      ]
     },
     "metadata": {
      "needs_background": "light"
     },
     "output_type": "display_data"
    },
    {
     "data": {
      "image/png": "[encoded data removed]",
      "text/plain": [
       "<Figure size 432x288 with 2 Axes>"
      ]
     },
     "metadata": {
      "needs_background": "light"
     },
     "output_type": "display_data"
    },
    {
     "data": {
      "image/png": "[encoded data removed]",
      "text/plain": [
       "<Figure size 432x288 with 2 Axes>"
      ]
     },
     "metadata": {
      "needs_background": "light"
     },
     "output_type": "display_data"
    }
   ],
   "source": [
    "# result \n",
    "eig_vector, mean = pca(X_train, 784)\n",
    "\n",
    "# Reconstruction using ALL eigen vectors\n",
    "score = np.matmul(X_train - mean, eig_vector)\n",
    "X_reconstructed = np.matmul(score, eig_vector.T) + mean\n",
    "\n",
    "# display the result\n",
    "print(\"Reconstruction using all Eigen Vectors\")\n",
    "for i in range(0,5,):   \n",
    "    fig, (ax1, ax2) = plt.subplots(1, 2) \n",
    "    ax1.set_title(\"Label \" + str(Y_train[i]) + \" \" + \"perfectly reconstructed\")\n",
    "    ax1.imshow(X_reconstructed[i].reshape(28,28))\n",
    "    ax2.set_title(\"Label \" + str(Y_train[i]) + \" \" + \"original\")\n",
    "    ax2.imshow(X_train[i].reshape(28,28))\n",
    "plt.show()\n",
    "\n"
   ]
  },
  {
   "cell_type": "markdown",
   "metadata": {},
   "source": [
    "Reconstruction is perfect using all the Eigen vectors."
   ]
  },
  {
   "cell_type": "markdown",
   "metadata": {},
   "source": [
    "### 2.b) \n",
    "Perform independent research on the clustering algorithm k-means. Implement a function kmeans\n",
    "performing k-means on input data X. Propose the interface to that function (i.e., what is its input and\n",
    "output?) and write in three sentences why this is. Apply you Kmeans implementation on the MNIST\n",
    "training set with k = 10 clusters and display the centroids as images. (4 points + 1 points on hidden\n",
    "dataset)"
   ]
  },
  {
   "cell_type": "code",
   "execution_count": 21,
   "metadata": {},
   "outputs": [],
   "source": [
    "def kMeans(X, k = 10):\n",
    "    \"\"\"\n",
    "    Finds the cluster centroids\n",
    "    \"\"\"\n",
    "    np.random.seed(10)\n",
    "\n",
    "    # initial random centroids in the dataset\n",
    "    centroids = X[np.random.choice(len(X), size=10)]\n",
    "    \n",
    "    # iterate to find the optimal cluster centroids\n",
    "    for i in range(5):    \n",
    "        \n",
    "        # calculate the distance between training examples and centroids\n",
    "        distance = np.zeros((len(X), k))\n",
    "        for j in range(k):\n",
    "            for x in range(len(X)):\n",
    "                distance[x, j] = np.sum((X[x] - centroids[j]) ** 2) ** 0.5\n",
    "        # find the clusters based on the shortest distance\n",
    "        clusters = np.argmin(distance, axis=1)\n",
    "        \n",
    "        # update the centroids' location by taking the mean\n",
    "        for j in range(k):\n",
    "            centroids[j] = np.mean(X[clusters == j], axis=0)\n",
    "        \n",
    "        print(\"Iteration\", i , clusters[0:20])\n",
    "        \n",
    "    return centroids"
   ]
  },
  {
   "cell_type": "markdown",
   "metadata": {},
   "source": [
    "The proposed interface have 2 arguments (X - training data and number of clusters) and 1 output (the centroids of clusters). The input is determined by the training examples and number of clusters, as the cluster number can be manually decided and training examples is used to calculate the centroids' location."
   ]
  },
  {
   "cell_type": "code",
   "execution_count": 22,
   "metadata": {},
   "outputs": [
    {
     "name": "stdout",
     "output_type": "stream",
     "text": [
      "Iteration 0 [8 3 3 0 7 3 3 1 1 3 3 0 3 6 3 0 2 1 3 3]\n",
      "Iteration 1 [9 3 3 0 7 3 7 1 1 3 6 0 3 6 6 0 2 1 9 6]\n",
      "Iteration 2 [4 7 3 0 7 3 7 1 1 0 6 0 3 6 6 0 9 1 9 6]\n",
      "Iteration 3 [4 7 3 0 5 3 7 1 1 0 6 0 3 6 6 0 9 1 9 9]\n",
      "Iteration 4 [4 7 7 0 5 3 7 1 1 0 6 0 3 3 6 0 9 1 9 9]\n",
      "All the cluster centroids\n"
     ]
    },
    {
     "data": {
      "image/png": "[encoded data removed]",
      "text/plain": [
       "<Figure size 1800x720 with 10 Axes>"
      ]
     },
     "metadata": {
      "needs_background": "light"
     },
     "output_type": "display_data"
    }
   ],
   "source": [
    "# Load MNIST dataset\n",
    "X_train, Y_train, X_val, Y_val = load_mnist_dataset()\n",
    "\n",
    "# result\n",
    "centroids = kMeans(X_train)\n",
    "\n",
    "width = 5\n",
    "height = 5\n",
    "rows = 2\n",
    "cols = 5\n",
    "axes = []\n",
    "\n",
    "print(\"All the cluster centroids\")\n",
    "fig=plt.figure(figsize=(25,10))\n",
    "for a in range(rows*cols):\n",
    "    axes.append( fig.add_subplot(rows, cols, a+1) )\n",
    "    subplot_title=(\"Centroid \"+str(a+1))\n",
    "    axes[-1].set_title(subplot_title)  \n",
    "    plt.imshow(centroids[a].reshape(28,28))\n",
    "fig.tight_layout()    \n",
    "plt.show()"
   ]
  },
  {
   "cell_type": "markdown",
   "metadata": {},
   "source": [
    "### 2.c)\n",
    "Describe the k-means algorithm, highlighting similarities and differences from KNN. Compare the\n",
    "reconstruction loss on the validation set for both k-means and PCA. Write no more than ten sentences.\n",
    "(2 points)"
   ]
  },
  {
   "cell_type": "markdown",
   "metadata": {},
   "source": [
    "The K-means algorithm is a clustering algorithm mainly used in unsupervised machine learning problem. The K-means algorithm finds \"K\" number of clusters in the dataset to cluster the data points that have \"similiar\"/closer distance to the centroids.  The K-nearest neighnors (KNN) algorithms is a classification/regression algorithm in a supervised machine learning setting, it can classify an unlabelled data points in the \"K\" number of nearest data points and use the \"K\" number of data points near the unlabelled data to determine a label for the data points. \n",
    "\n",
    "The K-means and KNN algorithms are similar in the \"K\" number of things - one is for number of clusters and another is for \"K\" nearest data points.\n",
    "\n",
    "The K-means clusters to data points into cluster to minimise the mean-square reconstruction error and the PCA uses a minimum number of eigen vector to represent all data points also tries to minimise the mean-square reconstruction error."
   ]
  },
  {
   "cell_type": "code",
   "execution_count": 23,
   "metadata": {},
   "outputs": [
    {
     "name": "stdout",
     "output_type": "stream",
     "text": [
      "Reconstruction using the top 10 Eigen Vectors - PCA\n"
     ]
    },
    {
     "data": {
      "image/png": "[encoded data removed]",
      "text/plain": [
       "<Figure size 432x288 with 2 Axes>"
      ]
     },
     "metadata": {
      "needs_background": "light"
     },
     "output_type": "display_data"
    },
    {
     "name": "stdout",
     "output_type": "stream",
     "text": [
      "Reconstruction using K-means\n"
     ]
    },
    {
     "data": {
      "image/png": "[encoded data removed]",
      "text/plain": [
       "<Figure size 432x288 with 2 Axes>"
      ]
     },
     "metadata": {
      "needs_background": "light"
     },
     "output_type": "display_data"
    }
   ],
   "source": [
    "# result \n",
    "# eig_vector, mean = pca(X_train, 784)\n",
    "\n",
    "# # result\n",
    "# centroids = kMeans(X_train)\n",
    "\n",
    "# Reconstruction using top 10 eigen vectors\n",
    "X_val_score = np.matmul(X_train - mean, eig_vector[0:784,0:10])\n",
    "X_val_reconstructed = np.matmul(X_val_score, eig_vector[0:784,0:10].T) + mean\n",
    "\n",
    "# display the result - top 10 eigen vectors\n",
    "print(\"Reconstruction using the top 10 Eigen Vectors - PCA\")\n",
    "for i in range(0,1,):   \n",
    "    fig, (ax1, ax2) = plt.subplots(1, 2) \n",
    "    ax1.set_title(\"Label \" + str(Y_val[i]) + \" \" + \"reconstructed\")\n",
    "    ax1.imshow(X_val_reconstructed[i].reshape(28,28))\n",
    "    ax2.set_title(\"Label \" + str(Y_val[i]) + \" \" + \"original\")\n",
    "    ax2.imshow(X_val[i].reshape(28,28))\n",
    "plt.show()\n",
    "\n",
    "# Reconstruction using K-Means\n",
    "print(\"Reconstruction using K-means\")\n",
    "\n",
    "# calculate the distance between validation examples and centroids\n",
    "distance = np.zeros((len(X_val), 10))\n",
    "for j in range(10):\n",
    "    for x in range(len(X_val)):\n",
    "        distance[x, j] = np.sum((X_val[x] - centroids[j]) ** 2) ** 0.5\n",
    "clusters = np.argmin(distance, axis=1)  \n",
    "\n",
    "# display the result - K means\n",
    "for i in range(0,1,):   \n",
    "    fig, (ax1, ax2) = plt.subplots(1, 2) \n",
    "    ax1.set_title(\"Cluster \" + str(Y_val[i]))\n",
    "    ax1.imshow(centroids[clusters[i]].reshape(28,28))\n",
    "    ax2.set_title(\"Label \" + str(Y_val[i]) + \" \" + \"original\")\n",
    "    ax2.imshow(X_val[i].reshape(28,28))\n",
    "plt.show()"
   ]
  },
  {
   "cell_type": "markdown",
   "metadata": {},
   "source": [
    "As can be seen from the graph above, the reconstruction loss is significant. The centroids does not have all the feature average together to resemble original input data and PCA does not reconstruct well for the limited eigen vectors."
   ]
  },
  {
   "cell_type": "markdown",
   "metadata": {},
   "source": [
    "## Q3  Linear Classification 26 points"
   ]
  },
  {
   "cell_type": "markdown",
   "metadata": {},
   "source": [
    "### 3.a)\n",
    "Implement the normal equation-based binary linear classifier **lclass(examplesA, examplesB, testExamples)**\n",
    "where the first two arguments are the set of samples from class A and class B respectively and the third\n",
    "is the test. The function should return a vector of 0s and 1s, 0 if test is in A and 1 otherwise. It should,\n",
    "for simplicity, both train and test in one function call. (5 points)"
   ]
  },
  {
   "cell_type": "code",
   "execution_count": 24,
   "metadata": {},
   "outputs": [],
   "source": [
    "def lclass(exampleA, exampleB, testExample):\n",
    "    \"\"\"\n",
    "    apply linear classifcation using normal equation\n",
    "    \"\"\"\n",
    "    \n",
    "    # prepare the dataset \n",
    "    training_data = []\n",
    "    for i in range(len(exampleA)):\n",
    "        training_data.append(exampleA[i])\n",
    "    for i in range(len(exampleB)):\n",
    "        training_data.append(exampleB[i])\n",
    "    training_data = np.array(training_data)\n",
    "    \n",
    "    # prepare the label\n",
    "    labels = np.concatenate((np.zeros((len(exampleA),)), np.ones((len(exampleB),))), axis=0) \n",
    "    \n",
    "    # solve for the best parameters\n",
    "    W = nsolve(training_data, labels)\n",
    "\n",
    "    return (np.matmul(testExample, W) > 0.5).astype(np.int) "
   ]
  },
  {
   "cell_type": "markdown",
   "metadata": {},
   "source": [
    "### 3.b)\n",
    "Test this on all the samples in Iris, Setosa vs non-Setosa, etc and propose a simple analysis (text,\n",
    "figure, table) of the result you find, but not longer than ten sentences. (5 points + 1 points on hidden\n",
    "dataset)"
   ]
  },
  {
   "cell_type": "code",
   "execution_count": 25,
   "metadata": {
    "scrolled": true
   },
   "outputs": [
    {
     "data": {
      "image/png": "[encoded data removed]",
      "text/plain": [
       "<Figure size 432x288 with 1 Axes>"
      ]
     },
     "metadata": {
      "needs_background": "light"
     },
     "output_type": "display_data"
    }
   ],
   "source": [
    "def getDataset(X, y):\n",
    "    \"\"\"\n",
    "    Separate the Setosa examples and non-Setosa examples \n",
    "    \"\"\"\n",
    "    exampleA_Setosa = []\n",
    "    exampleB_not_Setosa = []\n",
    "    for i in range(len(y)):\n",
    "        if(y[i] == 0):\n",
    "            exampleA_Setosa.append(X[i])\n",
    "        else:\n",
    "            exampleB_not_Setosa.append(X[i])\n",
    "    exampleA_Setosa = np.array(exampleA_Setosa)\n",
    "    exampleB_not_Setosa = np.array(exampleB_not_Setosa)\n",
    "    return exampleA_Setosa, exampleB_not_Setosa\n",
    "\n",
    "def plot_confusion_matrix(cf):\n",
    "    \"\"\"\n",
    "    Plot confusion matrix\n",
    "    \"\"\"\n",
    "    fig, ax = plt.subplots()\n",
    "\n",
    "    ax.matshow(cf, cmap=plt.cm.Blues)\n",
    "\n",
    "    for i in range(len(cf)):\n",
    "        for j in range(len(cf)):\n",
    "            c = cf[j,i]\n",
    "            ax.text(i, j, str(c), va='center', ha='center')\n",
    "\n",
    "    plt.xlabel('Prediction')\n",
    "    plt.ylabel('Target')\n",
    "    plt.show()\n",
    "\n",
    "# Load the dataset\n",
    "X_train, Y_train, X_val, Y_val = load_iris_dataset()\n",
    "\n",
    "# Separate the examples\n",
    "exampleA_Setosa, exampleB_not_Setosa = getDataset(X_train, Y_train)\n",
    "\n",
    "# result\n",
    "y_pred = lclass(exampleA_Setosa, exampleB_not_Setosa, X_val)\n",
    "\n",
    "# Mask the validation set labels \n",
    "Y_val[Y_val > 0] = 1\n",
    "Y_val[Y_val == 0] = 0\n",
    "\n",
    "# Confusion matrix\n",
    "cm = confusion_matrix(Y_val, y_pred)\n",
    "plot_confusion_matrix(cm)"
   ]
  },
  {
   "cell_type": "markdown",
   "metadata": {},
   "source": [
    "Setosa is 0 and non-Setosa is 1.The result is scores perfectly for the validation set as it can been seem from the confusion matrix. The normal equation performs decently to find the parameter given the amount of training examples."
   ]
  },
  {
   "cell_type": "markdown",
   "metadata": {},
   "source": [
    "### 3.c)\n",
    "Perform independent research how to do multi-class classification. Implement lmclass(examples,\n",
    "class, testExamples) that performs multi-class classification of the examples according to the vector of labels class of the same size and test it with testExamples by returning a matrix, where\n",
    "each row expresses the probability of a sample in testExamples to belong to each class. (9 points + 1\n",
    "points on hidden dataset)"
   ]
  },
  {
   "cell_type": "code",
   "execution_count": 26,
   "metadata": {},
   "outputs": [],
   "source": [
    "def lmclass(examples, class_, testExamples):\n",
    "    \"\"\"\n",
    "    Multi-class classification using softmax\n",
    "    \"\"\"\n",
    "    \n",
    "    # prepare the dataset \n",
    "    X = np.c_[np.ones((len(examples), 1)), examples]\n",
    "\n",
    "    # prepare the labels into vector of 0s and 1s\n",
    "    Y = np.zeros((len(class_), np.max(class_) + 1))\n",
    "\n",
    "    for i in range(np.max(class_) +1):\n",
    "        Y[:, i] = (class_ == i)\n",
    "\n",
    "    # solve for best parameter\n",
    "    W = nsolve(X,Y)\n",
    "    \n",
    "    # prepare the test dataset \n",
    "    X_test = np.c_[np.ones((len(testExamples), 1)), testExamples]\n",
    "    \n",
    "    # estimation for test examples\n",
    "    Y_pred = X_test @ W\n",
    "    \n",
    "    # softmax for probablity of each class\n",
    "    softmax = np.exp(Y_pred) / np.sum(np.exp(Y_pred), 1)[:,np.newaxis]\n",
    "    \n",
    "    return softmax"
   ]
  },
  {
   "cell_type": "markdown",
   "metadata": {},
   "source": [
    "### 3.d)\n",
    "Present findings applying multi-class classification on Iris dataset with 3 classes. You can include\n",
    "figures and tables if needed. Write no longer than ten sentences. (5 points)"
   ]
  },
  {
   "cell_type": "code",
   "execution_count": 27,
   "metadata": {},
   "outputs": [
    {
     "data": {
      "image/png": "[encoded data removed]",
      "text/plain": [
       "<Figure size 432x288 with 1 Axes>"
      ]
     },
     "metadata": {
      "needs_background": "light"
     },
     "output_type": "display_data"
    },
    {
     "name": "stdout",
     "output_type": "stream",
     "text": [
      "Prediction that all probabilities < 0.5\n",
      "[[0.13401355 0.4077359  0.45825054]\n",
      " [0.26448745 0.3502166  0.38529594]\n",
      " [0.24222601 0.30681058 0.45096342]\n",
      " [0.1714297  0.43820555 0.39036474]\n",
      " [0.26004251 0.37695751 0.36299998]\n",
      " [0.48962418 0.32079121 0.1895846 ]\n",
      " [0.22672569 0.27431163 0.49896268]\n",
      " [0.24157266 0.27067326 0.48775408]\n",
      " [0.31713673 0.34196605 0.34089722]]\n"
     ]
    }
   ],
   "source": [
    "# Load the dataset\n",
    "X_train, Y_train, X_val, Y_val = load_iris_dataset()\n",
    "\n",
    "# Get the result \n",
    "result = lmclass(X_train, Y_train, X_val)\n",
    "\n",
    "# confusion matrix\n",
    "cm = confusion_matrix(Y_val, np.argmax(result, axis = 1))\n",
    "plot_confusion_matrix(cm)\n",
    "\n",
    "# examples\n",
    "print(\"Prediction that all probabilities < 0.5\")\n",
    "print(result[np.max(result, axis=1) < 0.5])"
   ]
  },
  {
   "cell_type": "markdown",
   "metadata": {},
   "source": [
    "There are a several ways to do multi-class classification, such as one vs all. \n",
    "The multi-class classification using the softmax perform relatively well. The misclassified rate is 2/15 for the validation dataset, as it can be seem from the confusion matrix. However, there are some low confidence predictions as it can be seem from the list of the predictions. The prediction cannot confidently predict the outcome as the prediction is not greater than the normal threshold of 0.5."
   ]
  },
  {
   "cell_type": "markdown",
   "metadata": {},
   "source": [
    "## Q4 Non-linear Classification 25 points"
   ]
  },
  {
   "cell_type": "markdown",
   "metadata": {},
   "source": [
    "### 4.a)\n",
    "Implement classification based on logistic regression using GD by implementing the gradient function\n",
    "**deLogistic(preds, X, Y)** and optimizing using GD. preds are the prediction from the model, X are\n",
    "the data and Y are the labels. Propose a function interface for your implementation of the gradient\n",
    "descent algorithm. (4 points + 1 points on hidden dataset)"
   ]
  },
  {
   "cell_type": "code",
   "execution_count": 28,
   "metadata": {},
   "outputs": [],
   "source": [
    "def sigmoid(x):\n",
    "    \"\"\"\n",
    "    sigmoids function\n",
    "    \"\"\"\n",
    "    return 1/(1 + np.exp(-x))\n",
    "\n",
    "def loss_function(preds, targets):\n",
    "    \"\"\"\n",
    "    cross entropy function\n",
    "    \"\"\"\n",
    "    cost = - np.sum(targets * np.log(preds)) - np.sum((1 - targets) * np.log(1 - preds))\n",
    "    return cost\n",
    "\n",
    "def deLogistic(preds, X, Y):\n",
    "    \"\"\"\n",
    "    gradient function\n",
    "    \"\"\"\n",
    "    gradient = np.dot(X.T, (preds - Y))\n",
    "    \n",
    "    return gradient\n",
    "\n",
    "def LogisticClassifier(X, Y, X_test):\n",
    "    \"\"\"\n",
    "    Proposed interface: Logistic classification - binary classifier\n",
    "    \"\"\"\n",
    "    np.random.seed(0)\n",
    "    \n",
    "    # Prepare the dataset \n",
    "    X = np.c_[np.ones((X_train.shape[0],1)),X_train]\n",
    "        \n",
    "    # parameter\n",
    "    W = np.zeros((X.shape[1]))\n",
    "    # cost list\n",
    "    cost = []\n",
    "    # paremeter list\n",
    "    W_list = []\n",
    "    # iteration list\n",
    "    num = []\n",
    "    \n",
    "    # number of iterations\n",
    "    numIter=1000\n",
    "    # learning rate \n",
    "    Learning_rate = 0.00075\n",
    "    \n",
    "    # iterate to find the best parameter\n",
    "    for i in range(numIter):\n",
    "        # estimation\n",
    "        preds = sigmoid(X @ W)\n",
    "        # keep track the cost\n",
    "        cost.append(loss_function(preds, Y))\n",
    "        # keep track the parameter\n",
    "        W_list.append(W)\n",
    "        # GD\n",
    "        gradient = deLogistic(preds, X, Y)\n",
    "        # update the current parameter\n",
    "        W = W - Learning_rate * gradient\n",
    "        # track the iteration\n",
    "        num.append(i)\n",
    "\n",
    "    # prepare the test examples\n",
    "    X_test = np.c_[np.ones((X_test.shape[0], 1)), X_test]\n",
    "    # threshold > 0.5 - binary classification\n",
    "    y_preds = sigmoid(X_test @ W) > 0.5\n",
    "    \n",
    "    return cost, W_list, num, (y_preds)\n"
   ]
  },
  {
   "cell_type": "code",
   "execution_count": 29,
   "metadata": {},
   "outputs": [
    {
     "data": {
      "image/png": "[encoded data removed]",
      "text/plain": [
       "<Figure size 432x288 with 1 Axes>"
      ]
     },
     "metadata": {
      "needs_background": "light"
     },
     "output_type": "display_data"
    },
    {
     "data": {
      "image/png": "[encoded data removed]",
      "text/plain": [
       "<Figure size 432x288 with 1 Axes>"
      ]
     },
     "metadata": {
      "needs_background": "light"
     },
     "output_type": "display_data"
    }
   ],
   "source": [
    "# Load the dataset\n",
    "X_train, Y_train, X_val, Y_val = load_iris_dataset()\n",
    "\n",
    "# Mask the labels\n",
    "Y_train [Y_train > 0] = 1\n",
    "\n",
    "# result\n",
    "cost, w, num, y_preds = LogisticClassifier(X_train, Y_train, X_val)\n",
    "\n",
    "# Mask the label\n",
    "Y_val[Y_val > 0 ] = 1\n",
    "\n",
    "# Plot the cost vs iteration\n",
    "plt.plot(num, cost)\n",
    "plt.xlabel(\"Iteration\")\n",
    "plt.ylabel(\"Cost\")\n",
    "\n",
    "# confusion matrix\n",
    "cm = confusion_matrix(Y_val, y_preds)\n",
    "plot_confusion_matrix(cm)"
   ]
  },
  {
   "cell_type": "markdown",
   "metadata": {},
   "source": [
    "### 4.b)\n",
    "Implement classification based on hinge loss using GD by implementing the gradient function **deHinge(preds,\n",
    "W, X, Y)** and optimizing using GD. preds are the prediction from the model, W describes the model parameters, x is the data and y represent the labels. Propose a function interface for your implementation\n",
    "of the gradient descent algorithm. (8 points + 2 points on hidden dataset)"
   ]
  },
  {
   "cell_type": "code",
   "execution_count": 30,
   "metadata": {
    "scrolled": true
   },
   "outputs": [],
   "source": [
    "def sgn_predict(W, X):\n",
    "    \"\"\"\n",
    "    Sign prediction for the hinge loss\n",
    "    \"\"\"\n",
    "    z = np.dot(X, W)\n",
    "    out = np.sign(z)\n",
    "    return out\n",
    "\n",
    "def hinge_loss(z, Y):\n",
    "    \"\"\"\n",
    "    Hinge loss\n",
    "    \"\"\"\n",
    "    loss = np.sum(np.maximum(0, 1 - Y * z))\n",
    "    return loss\n",
    "\n",
    "\n",
    "def deHinge(preds, W, X, Y):\n",
    "    \"\"\"\n",
    "    Gradient function for the hinge loss\n",
    "    \"\"\"\n",
    "    # hinge loss\n",
    "    hingeloss = np.maximum(0, 1 - preds * Y)\n",
    "    # gradient \n",
    "    dJ = -X * Y[:, np.newaxis]\n",
    "    # if hinge is less than 0\n",
    "    dJ[hingeloss <= 0] = 0\n",
    "    # average gradient per feature \n",
    "    dJ = np.mean(dJ, axis=0)\n",
    "    \n",
    "    return dJ\n",
    "\n",
    "def HingeLossClassifier(X, Y, X_test):\n",
    "    \"\"\"\n",
    "    Proposed interface: Hingeloss classification - binary classifier\n",
    "    \"\"\"\n",
    "    np.random.seed(0)\n",
    "\n",
    "    # prepare the dataset\n",
    "    X = np.c_[np.ones((X_train.shape[0],1)),X_train]\n",
    "    \n",
    "    # parameter\n",
    "    W = np.zeros((X.shape[1]))\n",
    "\n",
    "    # cost list\n",
    "    cost = []\n",
    "    # parameter list \n",
    "    W_list = []\n",
    "    # iteration list \n",
    "    num = []\n",
    "    \n",
    "    # number of iteration\n",
    "    numIter= 200\n",
    "    # learning rate \n",
    "    Learning_rate = 0.015\n",
    "    \n",
    "    # iterate to find the best parameter\n",
    "    for i in range(numIter):\n",
    "        # estimation \n",
    "        preds = np.dot(X, W)\n",
    "        # keep track of the cost\n",
    "        cost.append(hinge_loss(preds, Y))\n",
    "        # keep track of the parameter\n",
    "        W_list.append(W)\n",
    "        # GD\n",
    "        gradient = deHinge(preds, W, X, Y)\n",
    "        # update the current parameter\n",
    "        W = W - Learning_rate * gradient\n",
    "        # keep track of the iteration\n",
    "        num.append(i)\n",
    "    \n",
    "    # prepare the test examples\n",
    "    X_test = np.c_[np.ones((X_test.shape[0], 1)), X_test]\n",
    "    # big margin classification\n",
    "    y_preds = sgn_predict(W, X_test)\n",
    "    \n",
    "    return cost, W_list, num, (y_preds)"
   ]
  },
  {
   "cell_type": "code",
   "execution_count": 31,
   "metadata": {},
   "outputs": [
    {
     "data": {
      "image/png": "[encoded data removed]",
      "text/plain": [
       "<Figure size 432x288 with 1 Axes>"
      ]
     },
     "metadata": {
      "needs_background": "light"
     },
     "output_type": "display_data"
    },
    {
     "name": "stdout",
     "output_type": "stream",
     "text": [
      "Confusion Matrix\n",
      "[[ 5  0]\n",
      " [ 0 10]]\n"
     ]
    }
   ],
   "source": [
    "# Load the dataset\n",
    "X_train, Y_train, X_val, Y_val = load_iris_dataset()\n",
    "\n",
    "# Mask the labels for testing \n",
    "Y_train[Y_train > 0] = 1\n",
    "Y_train[Y_train == 0] = -1\n",
    "\n",
    "# Mask the labels for testing \n",
    "Y_val[Y_val > 0 ] = 1\n",
    "Y_val[Y_val == 0 ] = -1\n",
    "\n",
    "# result\n",
    "cost, w, num, y_preds = HingeLossClassifier(X_train, Y_train, X_val)\n",
    "\n",
    "# plot the cost\n",
    "plt.plot(num, cost)\n",
    "plt.xlabel(\"Iteration\")\n",
    "plt.ylabel(\"Cost\")\n",
    "plt.show()\n",
    "\n",
    "# confusion matrix\n",
    "print(\"Confusion Matrix\")\n",
    "print(confusion_matrix(Y_val, y_preds))"
   ]
  },
  {
   "cell_type": "markdown",
   "metadata": {},
   "source": [
    "### 4.c)\n",
    "Implement kernel SVM function ksvm(kernel, X, Y, xtest). The function takes as input a kernel\n",
    "function kernel, training data X,Y and a set of test points xtest. The function returns the set of\n",
    "support vectors along with the predicted labels. You are allowed to use scipy optimization library to\n",
    "solve the quadratic problem of SVM. (8 points + 2 points on hidden dataset)"
   ]
  },
  {
   "cell_type": "code",
   "execution_count": 32,
   "metadata": {},
   "outputs": [],
   "source": [
    "def linear_kernel(x1, x2):\n",
    "    \"\"\"\n",
    "    linear kernel\n",
    "    \"\"\"\n",
    "    return np.dot(x1, x2)\n",
    "\n",
    "def polynomial_kernel(x1, x2, offset = 1, p = 3):\n",
    "    \"\"\"\n",
    "    polynomial kernel\n",
    "    \"\"\"\n",
    "    return (offset + np.dot(x1, x2)) ** p\n",
    "\n",
    "def gaussian_kernel(x1, x2, sigma = 4.0):\n",
    "    \"\"\"\n",
    "    gaussian kernel\n",
    "    \"\"\"\n",
    "    return np.exp( - np.linalg.norm(x1 - x2) ** 2 / (2 * (sigma ** 2)))"
   ]
  },
  {
   "cell_type": "code",
   "execution_count": 33,
   "metadata": {},
   "outputs": [],
   "source": [
    "from scipy.optimize import minimize\n",
    "    \n",
    "def objective_function(alpha, x, y, kernel):\n",
    "    \"\"\"\n",
    "    Objective function for the scipy to minimize\n",
    "    \"\"\"\n",
    "    m = len(x)\n",
    "    \n",
    "    H = np.zeros((m,m))\n",
    "    for i in range(m):\n",
    "        for j in range(m):\n",
    "            H[i,j] = kernel(x[i], x[j]) * y[i] * y[j]\n",
    "    \n",
    "    objective_function = 0.5 * np.dot(alpha.T, np.dot(H, alpha)) - np.sum(alpha)\n",
    "    \n",
    "    return objective_function\n",
    "    \n",
    "def ksvm(kernel, X, Y, xtest):\n",
    "    \"\"\"\n",
    "    kernel SVM for big margin classifier\n",
    "    \"\"\"\n",
    "    \n",
    "    np.random.seed(0)\n",
    "    \n",
    "    # parameters\n",
    "    alpha = np.random.rand(len(X))\n",
    "    # constraint for the objective\n",
    "    constraint = {\"type\":\"eq\", \"fun\": lambda alpha : np.dot(alpha, Y), \"jac\": lambda alpha : Y}\n",
    "    \n",
    "    # the boundary of the parameters\n",
    "    bound = np.zeros((len(X), 2))\n",
    "    C = np.inf\n",
    "    # 0 < alpha < C\n",
    "    bound[:, 1] = C\n",
    "    \n",
    "    # minimization \n",
    "    solution = minimize(objective_function, \n",
    "                        alpha, \n",
    "                        method=\"SLSQP\",\n",
    "                        bounds=bound,\n",
    "                        args=(X, Y, kernel),\n",
    "                        constraints=constraint)\n",
    "    \n",
    "    # Solution \n",
    "    alpha = solution.x \n",
    "    \n",
    "    \n",
    "    # identify the support vectors\n",
    "    support_vec = X[alpha > 0]\n",
    "    \n",
    "    # estimation for the test data\n",
    "    preds = np.zeros(len(xtest))\n",
    "    for i in range(len(xtest)):\n",
    "        for j in range(len(X)):\n",
    "            preds[i] += alpha[j] * Y[j] * kernel(X[i], X[j])\n",
    "    \n",
    "    # Mask the labels \n",
    "    preds[preds > 0] = 1\n",
    "    preds[preds < 0] = -1\n",
    "    \n",
    "    # return set of support vectors, and predictions\n",
    "    return support_vec, preds\n"
   ]
  },
  {
   "cell_type": "code",
   "execution_count": 34,
   "metadata": {},
   "outputs": [],
   "source": [
    "# Load the dataset\n",
    "X_train, Y_train, X_val, Y_val = load_iris_dataset()\n",
    "\n",
    "# Mask the labels for testing\n",
    "Y_train[Y_train > 0] = 1 \n",
    "Y_train[Y_train == 0] = -1 \n",
    "\n",
    "# Mask the labels for testing\n",
    "Y_val[Y_val > 0] = 1 \n",
    "Y_val[Y_val == 0] = -1 "
   ]
  },
  {
   "cell_type": "code",
   "execution_count": 35,
   "metadata": {},
   "outputs": [
    {
     "name": "stdout",
     "output_type": "stream",
     "text": [
      "The list of support vectors\n",
      "[[6.  3.  4.8 1.8]\n",
      " [5.5 2.4 3.7 1. ]\n",
      " [5.4 3.4 1.7 0.2]\n",
      " [6.3 2.3 4.4 1.3]\n",
      " [5.5 2.4 3.8 1.1]\n",
      " [5.8 2.6 4.  1.2]\n",
      " [5.1 3.3 1.7 0.5]\n",
      " [5.8 2.7 4.1 1. ]\n",
      " [6.9 3.1 5.4 2.1]\n",
      " [6.2 2.9 4.3 1.3]\n",
      " [5.1 3.4 1.5 0.2]\n",
      " [4.4 2.9 1.4 0.2]\n",
      " [5.6 2.7 4.2 1.3]\n",
      " [4.4 3.  1.3 0.2]\n",
      " [5.  3.5 1.3 0.3]\n",
      " [5.6 3.  4.1 1.3]\n",
      " [6.7 3.3 5.7 2.5]\n",
      " [4.8 3.4 1.6 0.2]\n",
      " [6.4 3.1 5.5 1.8]\n",
      " [5.8 4.  1.2 0.2]\n",
      " [6.4 2.9 4.3 1.3]\n",
      " [6.4 2.7 5.3 1.9]\n",
      " [6.5 2.8 4.6 1.5]\n",
      " [6.2 3.4 5.4 2.3]\n",
      " [4.9 2.5 4.5 1.7]\n",
      " [5.  3.5 1.6 0.6]\n",
      " [5.  3.4 1.5 0.2]\n",
      " [4.6 3.4 1.4 0.3]\n",
      " [5.6 2.8 4.9 2. ]\n",
      " [5.9 3.2 4.8 1.8]\n",
      " [6.1 2.6 5.6 1.4]\n",
      " [5.  3.2 1.2 0.2]\n",
      " [6.7 3.1 4.4 1.4]\n",
      " [6.7 3.1 5.6 2.4]\n",
      " [5.7 2.8 4.1 1.3]\n",
      " [6.3 3.4 5.6 2.4]\n",
      " [5.9 3.  4.2 1.5]\n",
      " [7.  3.2 4.7 1.4]\n",
      " [5.7 2.9 4.2 1.3]\n",
      " [5.1 2.5 3.  1.1]\n",
      " [7.4 2.8 6.1 1.9]\n",
      " [5.  3.3 1.4 0.2]\n",
      " [4.9 3.6 1.4 0.1]]\n",
      "Confusion matrix\n",
      "[[0 5]\n",
      " [2 8]]\n"
     ]
    }
   ],
   "source": [
    "# result\n",
    "support_vec, preds = ksvm(linear_kernel, X_train, Y_train, X_val)\n",
    "\n",
    "# list of sv\n",
    "print(\"The list of support vectors\")\n",
    "print(support_vec)\n",
    "\n",
    "# confusion matrix\n",
    "print(\"Confusion matrix\")\n",
    "print(confusion_matrix(Y_val, preds))"
   ]
  },
  {
   "cell_type": "markdown",
   "metadata": {},
   "source": [
    "## Q5 Neural network 25 points"
   ]
  },
  {
   "cell_type": "markdown",
   "metadata": {},
   "source": [
    "### 5.a)\n",
    "Devise a three-layer neural network with n hidden states and sigmoid activations for classification.\n",
    "Explain how many parameters this has in one sentence. (2 points)"
   ]
  },
  {
   "cell_type": "markdown",
   "metadata": {},
   "source": [
    "If network has X units (+ 1 unit for bias) in input layer and Y units (+ 1 unit for bias) in hidden layer 1-3. The weights (parameters) between input and 1st hidden layer will be of dimension Y×(X+1). The weights between the hidden layer will be (Y)×(Y+1). For a binary classifier, there is 1 units in output layer , then the weights will be of dimension 1×(Y+1). So in total, the number of weights is Y×(X+1) + 3×(Y)x(Y+1) + 1×(Y+1)."
   ]
  },
  {
   "cell_type": "markdown",
   "metadata": {},
   "source": [
    "### 5.b)\n",
    "Provide the equation for the gradient using chain rule for the network in point a). (8 points)"
   ]
  },
  {
   "cell_type": "markdown",
   "metadata": {},
   "source": [
    "A 3-layer Neural Network\n",
    "\n",
    "\\begin{equation}\n",
    "y_{prediction} = A_{layer 4} (W_4 A_{layer 3} (W_3 A_{layer 2} (W_2 A_{layer 1} (W_1 X + b_1) + b_2) + b_3) + b_4)\n",
    "\\end{equation}\n",
    "\n",
    "where $A = \\sigma(Z)$ is the sigmoid activation function and $Z$ is the argument of the function. \n",
    "\n",
    "\n",
    "\\begin{equation}\n",
    "Loss(y_{prediction}, y_{truth}) = - y_{truth} (log(y_{prediction})) - (1 - y_{truth}) (log(1 - y_{prediction}))\n",
    "\\end{equation}\n",
    "\n",
    "where $Loss(y_{prediction}, y_{truth})$ is the loss function.\n",
    "\\begin{equation}\n",
    "\\frac{dLoss}{dA_{layer 4}} = \\frac{dLoss}{dA_{layer 4}} = \\frac{A_{layer 4} - y_{truth}}{A_{layer 4} (1 - A_{layer 4})}\\\\\n",
    "\\frac{dLoss}{dZ_{layer 4}} = \\frac{dLoss}{dA_{layer 4}} \\frac{dA_{layer 4}}{dZ_{layer 4}} = A_{layer 4} - y_{truth} \\\\\n",
    "\\frac{dLoss}{dW_{layer 4}} = \\frac{dLoss}{dA_{layer 4}} \\frac{dA_{layer 4}}{dZ_{layer 4}} \\frac{dZ_{layer 4}}{dW_{layer 4}} =  (A_{layer 4} - y_{truth} ) \\times A_{layer 3}\\\\\n",
    "\\frac{dLoss}{db_{layer 4}} = \\frac{dLoss}{dA_{layer 4}} \\frac{dA_{layer 4}}{dZ_{layer 4}} \\frac{dZ_{layer 4}}{db_{layer 4}} = \\frac{1}{\\text{total number of examples}}\\Sigma^{\\text{total number of examples}}_{i} (\\frac{dLoss}{dZ_{layer 4}})_i \\\\\n",
    "\\end{equation}\n",
    "\n",
    "\\begin{equation}\n",
    "\\frac{dLoss}{dA_{layer 3}} = \\frac{dLoss}{dA_{layer 4}} \\frac{dA_{layer 4}}{dZ_{layer 4}} \\frac{dZ_{layer 4}}{dA_{layer 3}} = W_{layer 4}^T A_{layer 3} \\\\\n",
    "\\frac{dLoss}{dZ_{layer 3}} = \\frac{dLoss}{dA_{layer 4}} \\frac{dA_{layer 4}}{dZ_{layer 4}} \\frac{dZ_{layer 4}}{dA_{layer 3}} \\frac{dA_{layer 3}}{dZ_{layer 3}} = \\frac{dLoss}{dA_{layer 3}} A_{layer 3} (1 - A_{layer 3}) \\\\\n",
    "\\frac{dLoss}{dW_{layer 3}} = \\frac{dLoss}{dA_{layer 4}} \\frac{dA_{layer 4}}{dZ_{layer 4}} \\frac{dZ_{layer 4}}{dA_{layer 3}} \\frac{dA_{layer 3}}{dZ_{layer 3}} \\frac{dZ_{layer 3}}{dW_{layer 3}} = \\frac{dLoss}{dZ_{layer 3}} A_{layer 2}^T\\\\\n",
    "\\frac{dLoss}{db_{layer 3}} = \\frac{dLoss}{dA_{layer 4}} \\frac{dA_{layer 4}}{dZ_{layer 4}} \\frac{dZ_{layer 4}}{dA_{layer 3}} \\frac{dA_{layer 3}}{dZ_{layer 3}} \\frac{dZ_{layer 3}}{db_{layer 3}} = \\frac{1}{\\text{total number of examples}}\\Sigma^{\\text{total number of examples}}_{i} (\\frac{dLoss}{dZ_{layer 3}})_i \\\\\n",
    "\\end{equation}\n",
    "\n",
    "\\begin{equation}\n",
    "\\frac{dLoss}{dA_{layer 2}} = \\frac{dLoss}{dA_{layer 4}} \\frac{dA_{layer 4}}{dZ_{layer 4}} \\frac{dZ_{layer 4}}{dA_{layer 3}} \\frac{dA_{layer 3}}{dZ_{layer 3}} \\frac{dZ_{layer 3}}{dA_{layer 2}} = W_{layer 3}^T A_{layer 2} \\\\\n",
    "\\frac{dLoss}{dZ_{layer 2}} = \\frac{dLoss}{dA_{layer 4}} \\frac{dA_{layer 4}}{dZ_{layer 4}} \\frac{dZ_{layer 4}}{dA_{layer 3}} \\frac{dA_{layer 3}}{dZ_{layer 3}} \\frac{dZ_{layer 3}}{dA_{layer 2}} \\frac{dA_{layer 2}}{dZ_{layer 2}} = \\frac{dLoss}{dA_{layer 2}} A_{layer 2} (1 - A_{layer 2}) \\\\\n",
    "\\frac{dLoss}{dW_{layer 2}} = \\frac{dLoss}{dA_{layer 4}} \\frac{dA_{layer 4}}{dZ_{layer 4}} \\frac{dZ_{layer 4}}{dA_{layer 3}} \\frac{dA_{layer 3}}{dZ_{layer 3}} \\frac{dZ_{layer 3}}{dA_{layer 2}} \\frac{dA_{layer 2}}{dZ_{layer 2}}\\frac{dZ_{layer 2}}{dW_{layer 2}} = \\frac{dLoss}{dZ_{layer 2}} A_{layer 1}^T\\\\\n",
    "\\frac{dLoss}{db_{layer 2}} = \\frac{dLoss}{dA_{layer 4}} \\frac{dA_{layer 4}}{dZ_{layer 4}} \\frac{dZ_{layer 4}}{dA_{layer 3}} \\frac{dA_{layer 3}}{dZ_{layer 3}} \\frac{dZ_{layer 3}}{dA_{layer 2}} \\frac{dA_{layer 2}}{dZ_{layer 2}} \\frac{dZ_{layer 2}}{db_{layer 2}} = \\frac{1}{\\text{total number of examples}}\\Sigma^{\\text{total number of examples}}_{i} (\\frac{dLoss}{dZ_{layer 2}})_i \\\\\n",
    "\\end{equation}\n",
    "\n",
    "\\begin{equation}\n",
    "\\frac{dLoss}{dA_{layer 1}} = \\frac{dLoss}{dA_{layer 4}} \\frac{dA_{layer 4}}{dZ_{layer 4}} \\frac{dZ_{layer 4}}{dA_{layer 3}} \\frac{dA_{layer 3}}{dZ_{layer 3}} \\frac{dZ_{layer 3}}{dA_{layer 2}} \\frac{dA_{layer 2}}{dZ_{layer 2}} \\frac{dZ_{layer 2}}{dA_{layer 1}} = W_{layer 2}^T A_{layer 1} \\\\\n",
    "\\frac{dLoss}{dZ_{layer 1}} = \\frac{dLoss}{dA_{layer 4}} \\frac{dA_{layer 4}}{dZ_{layer 4}} \\frac{dZ_{layer 4}}{dA_{layer 3}} \\frac{dA_{layer 3}}{dZ_{layer 3}} \\frac{dZ_{layer 3}}{dA_{layer 2}} \\frac{dA_{layer 2}}{dZ_{layer 2}} \\frac{dZ_{layer 2}}{dA_{layer 1}} \\frac{dA_{layer 1}}{dZ_{layer 1}} = \\frac{dLoss}{dA_{layer 1}} A_{layer 1} (1 - A_{layer 1}) \\\\\n",
    "\\frac{dLoss}{dW_{layer 1}} = \\frac{dLoss}{dA_{layer 4}} \\frac{dA_{layer 4}}{dZ_{layer 4}} \\frac{dZ_{layer 4}}{dA_{layer 3}} \\frac{dA_{layer 3}}{dZ_{layer 3}} \\frac{dZ_{layer 3}}{dA_{layer 2}} \\frac{dA_{layer 2}}{dZ_{layer 2}} \\frac{dZ_{layer 2}}{dA_{layer 1}} \\frac{dA_{layer 1}}{dZ_{layer 1}} \\frac{dZ_{layer 1}}{dW_{layer 1}} = \\frac{dLoss}{dZ_{layer 1}} X \\\\\n",
    "\\frac{dLoss}{db_{layer 1}} = \\frac{dLoss}{dA_{layer 4}} \\frac{dA_{layer 4}}{dZ_{layer 4}} \\frac{dZ_{layer 4}}{dA_{layer 3}} \\frac{dA_{layer 3}}{dZ_{layer 3}} \\frac{dZ_{layer 3}}{dA_{layer 2}} \\frac{dA_{layer 2}}{dZ_{layer 2}} \\frac{dZ_{layer 2}}{dA_{layer 1}} \\frac{dA_{layer 1}}{dZ_{layer 1}} \\frac{dZ_{layer 1}}{db_{layer 1}} = \\frac{1}{\\text{total number of examples}}\\Sigma^{\\text{total number of examples}}_{i} (\\frac{dLoss}{dZ_{layer 1}})_i \\\\\n",
    "\\end{equation}\n"
   ]
  },
  {
   "cell_type": "markdown",
   "metadata": {},
   "source": [
    "### 5.c)\n",
    "Implement the binary classifier nnclass(examplesA, examplesB, testExamples) that is trained with\n",
    "your implementation of (stochastic) GD and your gradient function using the network. (8 points + 2\n",
    "points on hidden dataset)"
   ]
  },
  {
   "cell_type": "code",
   "execution_count": 36,
   "metadata": {},
   "outputs": [],
   "source": [
    "def compute_cost(AL, Y):\n",
    "    \"\"\"\n",
    "    cross entropy loss between the NN prediction and ground truth\n",
    "    \"\"\"\n",
    "    cost = - np.sum(np.multiply(np.log(AL),Y) + np.multiply(1 - Y, np.log(1 - AL))) / Y.shape[1]    \n",
    "    return cost\n",
    "\n",
    "def sigmoid(x):\n",
    "    \"\"\"\n",
    "    sigmoid\n",
    "    \"\"\"\n",
    "    return 1/(1 + np.exp(-x))"
   ]
  },
  {
   "cell_type": "code",
   "execution_count": 37,
   "metadata": {},
   "outputs": [],
   "source": [
    "def nnclass(exampleA, exampleB, testExamples, n_h = 32):\n",
    "    \"\"\"\n",
    "    Neural network for binary classification\n",
    "    \"\"\"\n",
    "    np.random.seed(10)\n",
    "    \n",
    "    # Preparing the dataset \n",
    "    X = np.concatenate((exampleA, exampleB), axis=0)\n",
    "    # normalize the dataset\n",
    "    X = X/255.0\n",
    "    \n",
    "    # prepare the labels\n",
    "    Y = np.concatenate((np.ones(len(exampleA)), np.zeros(len(exampleB))))\n",
    "    # transfom the shape of labels\n",
    "    Y = Y.reshape((1,len(Y)))\n",
    "    \n",
    "    # number of features\n",
    "    n_x = X.shape[1]\n",
    "    # number of examples\n",
    "    m = X.shape[0]\n",
    "    # learning rate\n",
    "    learning_rate = 0.05\n",
    "\n",
    "    # Weights for layer 1\n",
    "    W1 = np.random.randn(n_h, n_x)\n",
    "    # bias weights for layer 1\n",
    "    b1 = np.zeros((n_h, 1))\n",
    "    \n",
    "    # Weights for layer 2 \n",
    "    W2 = np.random.randn(n_h, n_h)\n",
    "    # bias weights for layer 2\n",
    "    b2 = np.zeros((n_h, 1))\n",
    "\n",
    "    # Weights for layer 3\n",
    "    W3 = np.random.randn(n_h, n_h)\n",
    "    # bias weights for layer 3\n",
    "    b3 = np.zeros((n_h, 1))\n",
    "    \n",
    "    # Weights for layer 4\n",
    "    W4 = np.random.randn(1, n_h)\n",
    "    # bias weights for layer 4\n",
    "    b4 = np.zeros((1, 1))\n",
    "    \n",
    "    # cost list \n",
    "    cost_list = []\n",
    "    # iteration list\n",
    "    iter_list = []\n",
    "    \n",
    "    # iterate to find the best weights \n",
    "    for i in range(250):\n",
    "        \n",
    "        # forward propagate\n",
    "        Z1 = np.matmul(W1, X.T) + b1\n",
    "        A1 = sigmoid(Z1)\n",
    "        \n",
    "        # forward propagate\n",
    "        Z2 = np.matmul(W2, A1) + b2\n",
    "        A2 = sigmoid(Z2)\n",
    "        \n",
    "        # forward propagate        \n",
    "        Z3 = np.matmul(W3, A2) + b3\n",
    "        A3 = sigmoid(Z3)\n",
    "\n",
    "        # forward propagate\n",
    "        Z4 = np.matmul(W4, A3) + b4\n",
    "        A4 = sigmoid(Z4)\n",
    "\n",
    "        # compute the cost         \n",
    "        cost = compute_cost(A4, Y)\n",
    "\n",
    "        # find the gradient/derivative for layer 4\n",
    "        dZ4 = A4-Y\n",
    "        dW4 = (1./m) * np.matmul(dZ4, A3.T)\n",
    "        db4 = (1./m) * np.sum(dZ4, axis=1, keepdims=True)\n",
    "\n",
    "        # find the gradient/derivative for layer 3\n",
    "        dA3 = np.matmul(W4.T, dZ4)\n",
    "        dZ3 = dA3 * sigmoid(Z3) * (1 - sigmoid(Z3))\n",
    "        dW3 = (1./m) * np.matmul(dZ3, A2.T)\n",
    "        db3 = (1./m) * np.sum(dZ3, axis=1, keepdims=True)\n",
    "\n",
    "        # find the gradient/derivative for layer 2\n",
    "        dA2 = np.matmul(W3.T, dZ3)\n",
    "        dZ2 = dA2 * sigmoid(Z2) * (1 - sigmoid(Z2))\n",
    "        dW2 = (1./m) * np.matmul(dZ2, A1.T)\n",
    "        db2 = (1./m) * np.sum(dZ2, axis=1, keepdims=True)\n",
    "\n",
    "        # find the gradient/derivative for layer 1\n",
    "        dA1 = np.matmul(W2.T, dZ2)\n",
    "        dZ1 = dA1 * sigmoid(Z1) * (1 - sigmoid(Z1))\n",
    "        dW1 = (1./m) * np.matmul(dZ1, X)\n",
    "        db1 = (1./m) * np.sum(dZ1, axis=1, keepdims=True)\n",
    "\n",
    "        # find the gradient/derivative for layer \n",
    "        W4 = W4 - learning_rate * dW4\n",
    "        b4 = b4 - learning_rate * db4\n",
    "        W3 = W3 - learning_rate * dW3\n",
    "        b3 = b3 - learning_rate * db3\n",
    "        W2 = W2 - learning_rate * dW2\n",
    "        b2 = b2 - learning_rate * db2\n",
    "        W1 = W1 - learning_rate * dW1\n",
    "        b1 = b1 - learning_rate * db1\n",
    "\n",
    "        # keep track of the cost\n",
    "        cost_list.append(cost)\n",
    "        # keep track of the iteration\n",
    "        iter_list.append(i)\n",
    "        \n",
    "\n",
    "    # forward propagate for the test examples\n",
    "    Z1 = np.matmul(W1, testExamples.T) + b1\n",
    "    A1 = sigmoid(Z1)\n",
    "\n",
    "    # forward propagate for the test examples\n",
    "    Z2 = np.matmul(W2, A1) + b2\n",
    "    A2 = sigmoid(Z2)\n",
    "\n",
    "    # forward propagate for the test examples\n",
    "    Z3 = np.matmul(W3, A2) + b3\n",
    "    A3 = sigmoid(Z3)\n",
    "\n",
    "    # forward propagate for the test examples\n",
    "    Z4 = np.matmul(W4, A3) + b4\n",
    "    # make the prediction \n",
    "    A4 = sigmoid(Z4)\n",
    "    A4 = np.squeeze(A4)\n",
    "    \n",
    "    return A4, cost_list, iter_list"
   ]
  },
  {
   "cell_type": "markdown",
   "metadata": {},
   "source": [
    "### 5.d)\n",
    "Do an analysis how changes of n affect the accuracy with MNIST. Positive labels are assigned to digit 1\n",
    "and negative samples to other digits. Write not longer than fifteen sentences. A table and / or plot is\n",
    "welcome. (5 points)"
   ]
  },
  {
   "cell_type": "code",
   "execution_count": 38,
   "metadata": {},
   "outputs": [
    {
     "name": "stdout",
     "output_type": "stream",
     "text": [
      "Positive label\n"
     ]
    },
    {
     "data": {
      "image/png": "[encoded data removed]",
      "text/plain": [
       "<Figure size 1800x720 with 10 Axes>"
      ]
     },
     "metadata": {
      "needs_background": "light"
     },
     "output_type": "display_data"
    },
    {
     "name": "stdout",
     "output_type": "stream",
     "text": [
      "Negative label\n"
     ]
    },
    {
     "data": {
      "image/png": "[encoded data removed]",
      "text/plain": [
       "<Figure size 1800x720 with 10 Axes>"
      ]
     },
     "metadata": {
      "needs_background": "light"
     },
     "output_type": "display_data"
    }
   ],
   "source": [
    "# load the mnist dataset\n",
    "X_train, Y_train, X_val, Y_val = load_mnist_dataset()\n",
    "\n",
    "def getDataset(X, y):\n",
    "    \"\"\"\n",
    "    Separate the positve labels for digit 1 and negative labels for other digits\n",
    "    \"\"\"\n",
    "    exampleA = []\n",
    "    exampleB = []\n",
    "    for i in range(len(y)):\n",
    "        if(y[i] == 1):\n",
    "            exampleA.append(X[i])\n",
    "        else:\n",
    "            exampleB.append(X[i])\n",
    "    exampleA = np.array(exampleA)\n",
    "    exampleB = np.array(exampleB)\n",
    "    return exampleA, exampleB\n",
    "\n",
    "# separate \n",
    "exampleA, exampleB = getDataset(X_train, Y_train)\n",
    "\n",
    "\n",
    "width = 5\n",
    "height = 5\n",
    "rows = 2\n",
    "cols = 5\n",
    "axes = []\n",
    "\n",
    "print(\"Positive label\")\n",
    "fig=plt.figure(figsize=(25,10))\n",
    "for a in range(rows*cols):\n",
    "    axes.append( fig.add_subplot(rows, cols, a+1) )\n",
    "    subplot_title=(\"Example A\")\n",
    "    axes[-1].set_title(subplot_title)  \n",
    "    plt.imshow(exampleA[a].reshape(28,28))\n",
    "fig.tight_layout()    \n",
    "plt.show()\n",
    "\n",
    "print(\"Negative label\")\n",
    "fig=plt.figure(figsize=(25,10))\n",
    "for a in range(rows*cols):\n",
    "    axes.append( fig.add_subplot(rows, cols, a+1) )\n",
    "    subplot_title=(\"Example B\")\n",
    "    axes[-1].set_title(subplot_title)  \n",
    "    plt.imshow(exampleB[a].reshape(28,28))\n",
    "fig.tight_layout()    \n",
    "plt.show()"
   ]
  },
  {
   "cell_type": "code",
   "execution_count": 39,
   "metadata": {},
   "outputs": [
    {
     "data": {
      "image/png": "[encoded data removed]",
      "text/plain": [
       "<Figure size 432x288 with 1 Axes>"
      ]
     },
     "metadata": {
      "needs_background": "light"
     },
     "output_type": "display_data"
    }
   ],
   "source": [
    "# result \n",
    "A, cost_list, iter_list = nnclass(exampleA, exampleB[0:len(exampleA),:], X_val, 64)\n",
    "\n",
    "# mask the labels for testing \n",
    "Y_val[Y_val != 1] = 0\n",
    "Y_val[Y_val == 1] = 1\n",
    "\n",
    "# confusion matrix\n",
    "cm = confusion_matrix(Y_val, (A >0.5))\n",
    "plot_confusion_matrix(cm)"
   ]
  },
  {
   "cell_type": "code",
   "execution_count": 40,
   "metadata": {},
   "outputs": [
    {
     "data": {
      "image/png": "[encoded data removed]",
      "text/plain": [
       "<Figure size 576x288 with 1 Axes>"
      ]
     },
     "metadata": {
      "needs_background": "light"
     },
     "output_type": "display_data"
    }
   ],
   "source": [
    "# mask the labels for testing \n",
    "Y_val[Y_val != 1] = 0\n",
    "Y_val[Y_val == 1] = 1\n",
    "\n",
    "from sklearn.metrics import accuracy_score\n",
    "\n",
    "# list of accuracy scores\n",
    "accuracy_list = []\n",
    "# testing for number of hidden units per layer \n",
    "hidden_unit_list = [4, 8, 16, 32, 64, 128]\n",
    "# iterate to find the scores\n",
    "for i in hidden_unit_list:\n",
    "    # compute\n",
    "    A, cost_list, iter_list = nnclass(exampleA, exampleB[0:len(exampleA),:], X_val, i)\n",
    "    score = accuracy_score(Y_val, (A>0.5))\n",
    "    # add to the list \n",
    "    accuracy_list.append(score)\n",
    "\n",
    "# The accuracy vs hidden units graph\n",
    "plt.figure(figsize=(8,4))\n",
    "plt.plot(hidden_unit_list, accuracy_list)\n",
    "plt.xlabel(\"Number of hidden units\")\n",
    "plt.ylabel(\"Accuracy\")\n",
    "plt.show()"
   ]
  },
  {
   "cell_type": "markdown",
   "metadata": {},
   "source": [
    "The change of number of hidden units can significantly affects the accuracy of the Neural network prediction. The graph above shows that the increasing number of hidden units tends to have better accuracy in predicting the label correctly. However, there is a diminishing return in accuracy score as the number increase from 64 to 128 or more."
   ]
  },
  {
   "cell_type": "code",
   "execution_count": null,
   "metadata": {},
   "outputs": [],
   "source": []
  },
  {
   "cell_type": "code",
   "execution_count": null,
   "metadata": {},
   "outputs": [],
   "source": []
  }
 ],
 "metadata": {
  "kernelspec": {
   "display_name": "Python 3",
   "language": "python",
   "name": "python3"
  },
  "language_info": {
   "codemirror_mode": {
    "name": "ipython",
    "version": 3
   },
   "file_extension": ".py",
   "mimetype": "text/x-python",
   "name": "python",
   "nbconvert_exporter": "python",
   "pygments_lexer": "ipython3",
   "version": "3.6.12"
  }
 },
 "nbformat": 4,
 "nbformat_minor": 4
}
